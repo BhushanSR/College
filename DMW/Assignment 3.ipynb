{
 "cells": [
  {
   "cell_type": "code",
   "execution_count": 25,
   "id": "ff5df49e-5b68-4b87-8330-573c490be335",
   "metadata": {},
   "outputs": [
    {
     "name": "stdout",
     "output_type": "stream",
     "text": [
      "Requirement already satisfied: mlxtend in c:\\python311\\lib\\site-packages (0.23.1)\n",
      "Requirement already satisfied: scipy>=1.2.1 in c:\\python311\\lib\\site-packages (from mlxtend) (1.13.0)\n",
      "Requirement already satisfied: numpy>=1.16.2 in c:\\python311\\lib\\site-packages (from mlxtend) (1.24.3)\n",
      "Requirement already satisfied: pandas>=0.24.2 in c:\\python311\\lib\\site-packages (from mlxtend) (2.0.1)\n",
      "Requirement already satisfied: scikit-learn>=1.0.2 in c:\\python311\\lib\\site-packages (from mlxtend) (1.4.2)\n",
      "Requirement already satisfied: matplotlib>=3.0.0 in c:\\python311\\lib\\site-packages (from mlxtend) (3.8.4)\n",
      "Requirement already satisfied: joblib>=0.13.2 in c:\\python311\\lib\\site-packages (from mlxtend) (1.4.2)\n",
      "Requirement already satisfied: contourpy>=1.0.1 in c:\\python311\\lib\\site-packages (from matplotlib>=3.0.0->mlxtend) (1.2.1)\n",
      "Requirement already satisfied: cycler>=0.10 in c:\\python311\\lib\\site-packages (from matplotlib>=3.0.0->mlxtend) (0.12.1)\n",
      "Requirement already satisfied: fonttools>=4.22.0 in c:\\python311\\lib\\site-packages (from matplotlib>=3.0.0->mlxtend) (4.51.0)\n",
      "Requirement already satisfied: kiwisolver>=1.3.1 in c:\\python311\\lib\\site-packages (from matplotlib>=3.0.0->mlxtend) (1.4.5)\n",
      "Requirement already satisfied: packaging>=20.0 in c:\\python311\\lib\\site-packages (from matplotlib>=3.0.0->mlxtend) (24.0)\n",
      "Requirement already satisfied: pillow>=8 in c:\\python311\\lib\\site-packages (from matplotlib>=3.0.0->mlxtend) (10.3.0)\n",
      "Requirement already satisfied: pyparsing>=2.3.1 in c:\\python311\\lib\\site-packages (from matplotlib>=3.0.0->mlxtend) (3.1.2)\n",
      "Requirement already satisfied: python-dateutil>=2.7 in c:\\python311\\lib\\site-packages (from matplotlib>=3.0.0->mlxtend) (2.8.2)\n",
      "Requirement already satisfied: pytz>=2020.1 in c:\\python311\\lib\\site-packages (from pandas>=0.24.2->mlxtend) (2023.3)\n",
      "Requirement already satisfied: tzdata>=2022.1 in c:\\python311\\lib\\site-packages (from pandas>=0.24.2->mlxtend) (2023.3)\n",
      "Requirement already satisfied: threadpoolctl>=2.0.0 in c:\\python311\\lib\\site-packages (from scikit-learn>=1.0.2->mlxtend) (3.5.0)\n",
      "Requirement already satisfied: six>=1.5 in c:\\python311\\lib\\site-packages (from python-dateutil>=2.7->matplotlib>=3.0.0->mlxtend) (1.16.0)\n"
     ]
    },
    {
     "name": "stderr",
     "output_type": "stream",
     "text": [
      "DEPRECATION: Loading egg at c:\\python311\\lib\\site-packages\\vboxapi-1.0-py3.11.egg is deprecated. pip 24.3 will enforce this behaviour change. A possible replacement is to use pip for package installation.. Discussion can be found at https://github.com/pypa/pip/issues/12330\n"
     ]
    },
    {
     "name": "stdout",
     "output_type": "stream",
     "text": [
      "Requirement already satisfied: apyori in c:\\python311\\lib\\site-packages (1.1.2)\n",
      "Requirement already satisfied: graphviz in c:\\python311\\lib\\site-packages (0.20.3)\n"
     ]
    },
    {
     "name": "stderr",
     "output_type": "stream",
     "text": [
      "DEPRECATION: Loading egg at c:\\python311\\lib\\site-packages\\vboxapi-1.0-py3.11.egg is deprecated. pip 24.3 will enforce this behaviour change. A possible replacement is to use pip for package installation.. Discussion can be found at https://github.com/pypa/pip/issues/12330\n"
     ]
    },
    {
     "name": "stdout",
     "output_type": "stream",
     "text": [
      "Requirement already satisfied: pyfpgrowth in c:\\python311\\lib\\site-packages (1.0)\n"
     ]
    },
    {
     "name": "stderr",
     "output_type": "stream",
     "text": [
      "DEPRECATION: Loading egg at c:\\python311\\lib\\site-packages\\vboxapi-1.0-py3.11.egg is deprecated. pip 24.3 will enforce this behaviour change. A possible replacement is to use pip for package installation.. Discussion can be found at https://github.com/pypa/pip/issues/12330\n"
     ]
    },
    {
     "name": "stdout",
     "output_type": "stream",
     "text": [
      "Assignment 3.ipynb:      \"Assignment 3.ipynb:    \\\"!grep -r \\\\\\\"def mine_patterns\\\\\\\"\\\"\\n\"\n",
      "Assignment 3.ipynb:    \"!grep -r \\\"def mine_patterns\\\"\"\n",
      "Assignment 3.ipynb:    \"def mine_patterns(node, prefix, header_table, min_support, patterns):\\n\",\n",
      "Assignment 3.ipynb:    \"def mine_patterns(node, prefix, header_table, min_support, patterns):\\n\",\n"
     ]
    }
   ],
   "source": [
    "!pip install mlxtend\n",
    "!pip install apyori graphviz\n",
    "!pip install pyfpgrowth\n",
    "import pyfpgrowth\n",
    "!grep -r \"def mine_patterns\""
   ]
  },
  {
   "cell_type": "code",
   "execution_count": 26,
   "id": "cd5da9ef-ad3e-4872-8542-ea16abb2dc5c",
   "metadata": {},
   "outputs": [
    {
     "name": "stdout",
     "output_type": "stream",
     "text": [
      "Requirement already satisfied: pandas in c:\\python311\\lib\\site-packages (2.0.1)\n",
      "Requirement already satisfied: python-dateutil>=2.8.2 in c:\\python311\\lib\\site-packages (from pandas) (2.8.2)\n",
      "Requirement already satisfied: pytz>=2020.1 in c:\\python311\\lib\\site-packages (from pandas) (2023.3)\n",
      "Requirement already satisfied: tzdata>=2022.1 in c:\\python311\\lib\\site-packages (from pandas) (2023.3)\n",
      "Requirement already satisfied: numpy>=1.21.0 in c:\\python311\\lib\\site-packages (from pandas) (1.24.3)\n",
      "Requirement already satisfied: six>=1.5 in c:\\python311\\lib\\site-packages (from python-dateutil>=2.8.2->pandas) (1.16.0)\n"
     ]
    },
    {
     "name": "stderr",
     "output_type": "stream",
     "text": [
      "DEPRECATION: Loading egg at c:\\python311\\lib\\site-packages\\vboxapi-1.0-py3.11.egg is deprecated. pip 24.3 will enforce this behaviour change. A possible replacement is to use pip for package installation.. Discussion can be found at https://github.com/pypa/pip/issues/12330\n"
     ]
    }
   ],
   "source": [
    "#Create a sample dataset\n",
    "!pip install pandas\n",
    "import pandas as pd\n",
    "\n",
    "#Create a sample dataset:\n",
    "data = pd.read_csv('california_housing_train.csv')\n",
    "data = pd.DataFrame({\n",
    "    \"longitude\": [1, 2, 3, 4, 5],\n",
    "    \"latitude\": [10, 20, 30, 40, 50],\n",
    "    # ... other columns\n",
    "})"
   ]
  },
  {
   "cell_type": "code",
   "execution_count": 27,
   "id": "58b25c23-34df-4d20-bbfd-72fa041c76f4",
   "metadata": {},
   "outputs": [],
   "source": [
    "import pandas as pd\n",
    "from mlxtend.preprocessing import TransactionEncoder\n",
    "from mlxtend.frequent_patterns import apriori\n",
    "from mlxtend.frequent_patterns import fpgrowth\n",
    "import graphviz"
   ]
  },
  {
   "cell_type": "code",
   "execution_count": 28,
   "id": "886557e3-9082-4763-bfe0-582b3b952f5d",
   "metadata": {},
   "outputs": [
    {
     "data": {
      "text/html": [
       "<div>\n",
       "<style scoped>\n",
       "    .dataframe tbody tr th:only-of-type {\n",
       "        vertical-align: middle;\n",
       "    }\n",
       "\n",
       "    .dataframe tbody tr th {\n",
       "        vertical-align: top;\n",
       "    }\n",
       "\n",
       "    .dataframe thead th {\n",
       "        text-align: right;\n",
       "    }\n",
       "</style>\n",
       "<table border=\"1\" class=\"dataframe\">\n",
       "  <thead>\n",
       "    <tr style=\"text-align: right;\">\n",
       "      <th></th>\n",
       "      <th>a</th>\n",
       "      <th>d</th>\n",
       "      <th>e</th>\n",
       "      <th>g</th>\n",
       "      <th>i</th>\n",
       "      <th>l</th>\n",
       "      <th>n</th>\n",
       "      <th>o</th>\n",
       "      <th>t</th>\n",
       "      <th>u</th>\n",
       "    </tr>\n",
       "  </thead>\n",
       "  <tbody>\n",
       "    <tr>\n",
       "      <th>0</th>\n",
       "      <td>False</td>\n",
       "      <td>True</td>\n",
       "      <td>True</td>\n",
       "      <td>True</td>\n",
       "      <td>True</td>\n",
       "      <td>True</td>\n",
       "      <td>True</td>\n",
       "      <td>True</td>\n",
       "      <td>True</td>\n",
       "      <td>True</td>\n",
       "    </tr>\n",
       "    <tr>\n",
       "      <th>1</th>\n",
       "      <td>True</td>\n",
       "      <td>True</td>\n",
       "      <td>True</td>\n",
       "      <td>False</td>\n",
       "      <td>True</td>\n",
       "      <td>True</td>\n",
       "      <td>False</td>\n",
       "      <td>False</td>\n",
       "      <td>True</td>\n",
       "      <td>True</td>\n",
       "    </tr>\n",
       "    <tr>\n",
       "      <th>2</th>\n",
       "      <td>False</td>\n",
       "      <td>False</td>\n",
       "      <td>False</td>\n",
       "      <td>False</td>\n",
       "      <td>False</td>\n",
       "      <td>False</td>\n",
       "      <td>False</td>\n",
       "      <td>False</td>\n",
       "      <td>False</td>\n",
       "      <td>False</td>\n",
       "    </tr>\n",
       "    <tr>\n",
       "      <th>3</th>\n",
       "      <td>False</td>\n",
       "      <td>False</td>\n",
       "      <td>False</td>\n",
       "      <td>False</td>\n",
       "      <td>False</td>\n",
       "      <td>False</td>\n",
       "      <td>False</td>\n",
       "      <td>False</td>\n",
       "      <td>False</td>\n",
       "      <td>False</td>\n",
       "    </tr>\n",
       "    <tr>\n",
       "      <th>4</th>\n",
       "      <td>False</td>\n",
       "      <td>False</td>\n",
       "      <td>False</td>\n",
       "      <td>False</td>\n",
       "      <td>False</td>\n",
       "      <td>False</td>\n",
       "      <td>False</td>\n",
       "      <td>False</td>\n",
       "      <td>False</td>\n",
       "      <td>False</td>\n",
       "    </tr>\n",
       "  </tbody>\n",
       "</table>\n",
       "</div>"
      ],
      "text/plain": [
       "       a      d      e      g      i      l      n      o      t      u\n",
       "0  False   True   True   True   True   True   True   True   True   True\n",
       "1   True   True   True  False   True   True  False  False   True   True\n",
       "2  False  False  False  False  False  False  False  False  False  False\n",
       "3  False  False  False  False  False  False  False  False  False  False\n",
       "4  False  False  False  False  False  False  False  False  False  False"
      ]
     },
     "execution_count": 28,
     "metadata": {},
     "output_type": "execute_result"
    }
   ],
   "source": [
    "#Convert the dataset to a transaction format:\n",
    "te = TransactionEncoder()\n",
    "te_ary = te.fit(data).transform(data)\n",
    "df_encoded = pd.DataFrame(te_ary, columns=te.columns_)\n",
    "df_encoded"
   ]
  },
  {
   "cell_type": "code",
   "execution_count": 29,
   "id": "2d09471a-8d7c-4a9f-9276-4fa94c925b2c",
   "metadata": {},
   "outputs": [
    {
     "data": {
      "text/html": [
       "<div>\n",
       "<style scoped>\n",
       "    .dataframe tbody tr th:only-of-type {\n",
       "        vertical-align: middle;\n",
       "    }\n",
       "\n",
       "    .dataframe tbody tr th {\n",
       "        vertical-align: top;\n",
       "    }\n",
       "\n",
       "    .dataframe thead th {\n",
       "        text-align: right;\n",
       "    }\n",
       "</style>\n",
       "<table border=\"1\" class=\"dataframe\">\n",
       "  <thead>\n",
       "    <tr style=\"text-align: right;\">\n",
       "      <th></th>\n",
       "      <th>support</th>\n",
       "      <th>itemsets</th>\n",
       "    </tr>\n",
       "  </thead>\n",
       "  <tbody>\n",
       "    <tr>\n",
       "      <th>0</th>\n",
       "      <td>0.4</td>\n",
       "      <td>(d)</td>\n",
       "    </tr>\n",
       "    <tr>\n",
       "      <th>1</th>\n",
       "      <td>0.4</td>\n",
       "      <td>(e)</td>\n",
       "    </tr>\n",
       "    <tr>\n",
       "      <th>2</th>\n",
       "      <td>0.4</td>\n",
       "      <td>(i)</td>\n",
       "    </tr>\n",
       "    <tr>\n",
       "      <th>3</th>\n",
       "      <td>0.4</td>\n",
       "      <td>(l)</td>\n",
       "    </tr>\n",
       "    <tr>\n",
       "      <th>4</th>\n",
       "      <td>0.4</td>\n",
       "      <td>(t)</td>\n",
       "    </tr>\n",
       "    <tr>\n",
       "      <th>...</th>\n",
       "      <td>...</td>\n",
       "      <td>...</td>\n",
       "    </tr>\n",
       "    <tr>\n",
       "      <th>58</th>\n",
       "      <td>0.4</td>\n",
       "      <td>(d, t, e, i, u)</td>\n",
       "    </tr>\n",
       "    <tr>\n",
       "      <th>59</th>\n",
       "      <td>0.4</td>\n",
       "      <td>(d, t, e, l, u)</td>\n",
       "    </tr>\n",
       "    <tr>\n",
       "      <th>60</th>\n",
       "      <td>0.4</td>\n",
       "      <td>(d, t, i, l, u)</td>\n",
       "    </tr>\n",
       "    <tr>\n",
       "      <th>61</th>\n",
       "      <td>0.4</td>\n",
       "      <td>(t, e, i, l, u)</td>\n",
       "    </tr>\n",
       "    <tr>\n",
       "      <th>62</th>\n",
       "      <td>0.4</td>\n",
       "      <td>(d, t, e, i, l, u)</td>\n",
       "    </tr>\n",
       "  </tbody>\n",
       "</table>\n",
       "<p>63 rows × 2 columns</p>\n",
       "</div>"
      ],
      "text/plain": [
       "    support            itemsets\n",
       "0       0.4                 (d)\n",
       "1       0.4                 (e)\n",
       "2       0.4                 (i)\n",
       "3       0.4                 (l)\n",
       "4       0.4                 (t)\n",
       "..      ...                 ...\n",
       "58      0.4     (d, t, e, i, u)\n",
       "59      0.4     (d, t, e, l, u)\n",
       "60      0.4     (d, t, i, l, u)\n",
       "61      0.4     (t, e, i, l, u)\n",
       "62      0.4  (d, t, e, i, l, u)\n",
       "\n",
       "[63 rows x 2 columns]"
      ]
     },
     "execution_count": 29,
     "metadata": {},
     "output_type": "execute_result"
    }
   ],
   "source": [
    "#Apply the Apriori algorithm:\n",
    "frequent_itemsets_apriori = apriori(df_encoded, min_support=0.33, use_colnames=True)\n",
    "frequent_itemsets_apriori"
   ]
  },
  {
   "cell_type": "code",
   "execution_count": 30,
   "id": "020c3f54-0328-4198-8590-befec0319f6c",
   "metadata": {},
   "outputs": [
    {
     "data": {
      "text/html": [
       "<div>\n",
       "<style scoped>\n",
       "    .dataframe tbody tr th:only-of-type {\n",
       "        vertical-align: middle;\n",
       "    }\n",
       "\n",
       "    .dataframe tbody tr th {\n",
       "        vertical-align: top;\n",
       "    }\n",
       "\n",
       "    .dataframe thead th {\n",
       "        text-align: right;\n",
       "    }\n",
       "</style>\n",
       "<table border=\"1\" class=\"dataframe\">\n",
       "  <thead>\n",
       "    <tr style=\"text-align: right;\">\n",
       "      <th></th>\n",
       "      <th>support</th>\n",
       "      <th>itemsets</th>\n",
       "    </tr>\n",
       "  </thead>\n",
       "  <tbody>\n",
       "    <tr>\n",
       "      <th>0</th>\n",
       "      <td>0.4</td>\n",
       "      <td>(u)</td>\n",
       "    </tr>\n",
       "    <tr>\n",
       "      <th>1</th>\n",
       "      <td>0.4</td>\n",
       "      <td>(t)</td>\n",
       "    </tr>\n",
       "    <tr>\n",
       "      <th>2</th>\n",
       "      <td>0.4</td>\n",
       "      <td>(l)</td>\n",
       "    </tr>\n",
       "    <tr>\n",
       "      <th>3</th>\n",
       "      <td>0.4</td>\n",
       "      <td>(i)</td>\n",
       "    </tr>\n",
       "    <tr>\n",
       "      <th>4</th>\n",
       "      <td>0.4</td>\n",
       "      <td>(e)</td>\n",
       "    </tr>\n",
       "    <tr>\n",
       "      <th>...</th>\n",
       "      <td>...</td>\n",
       "      <td>...</td>\n",
       "    </tr>\n",
       "    <tr>\n",
       "      <th>58</th>\n",
       "      <td>0.4</td>\n",
       "      <td>(d, t, e, l, u)</td>\n",
       "    </tr>\n",
       "    <tr>\n",
       "      <th>59</th>\n",
       "      <td>0.4</td>\n",
       "      <td>(d, t, e, i, u)</td>\n",
       "    </tr>\n",
       "    <tr>\n",
       "      <th>60</th>\n",
       "      <td>0.4</td>\n",
       "      <td>(d, e, i, l, u)</td>\n",
       "    </tr>\n",
       "    <tr>\n",
       "      <th>61</th>\n",
       "      <td>0.4</td>\n",
       "      <td>(d, t, e, i, l)</td>\n",
       "    </tr>\n",
       "    <tr>\n",
       "      <th>62</th>\n",
       "      <td>0.4</td>\n",
       "      <td>(d, t, e, i, l, u)</td>\n",
       "    </tr>\n",
       "  </tbody>\n",
       "</table>\n",
       "<p>63 rows × 2 columns</p>\n",
       "</div>"
      ],
      "text/plain": [
       "    support            itemsets\n",
       "0       0.4                 (u)\n",
       "1       0.4                 (t)\n",
       "2       0.4                 (l)\n",
       "3       0.4                 (i)\n",
       "4       0.4                 (e)\n",
       "..      ...                 ...\n",
       "58      0.4     (d, t, e, l, u)\n",
       "59      0.4     (d, t, e, i, u)\n",
       "60      0.4     (d, e, i, l, u)\n",
       "61      0.4     (d, t, e, i, l)\n",
       "62      0.4  (d, t, e, i, l, u)\n",
       "\n",
       "[63 rows x 2 columns]"
      ]
     },
     "execution_count": 30,
     "metadata": {},
     "output_type": "execute_result"
    }
   ],
   "source": [
    "#Apply the FP-growth algorithm:\n",
    "frequent_itemsets_fpgrowth = fpgrowth(df_encoded, min_support=0.33, use_colnames=True)\n",
    "frequent_itemsets_fpgrowth"
   ]
  },
  {
   "cell_type": "code",
   "execution_count": 44,
   "id": "525ae749-e783-4bb5-91ff-145546c4e35f",
   "metadata": {},
   "outputs": [],
   "source": [
    "#Construction of FP-Tree class Node:\n",
    "def __init__(self, item, count, parent):\n",
    "    self.item = item \n",
    "    self.count = count \n",
    "    self.parent = parent\n",
    "    self.children = {}\n",
    "def build_tree(data, min_support):\n",
    "    header_table = {} \n",
    "    for index, row in data.iterrows(): \n",
    "      for item in row: \n",
    "        header_table[item] = header_table.get(item, 0) + 1\n",
    "        for k in list(header_table):\n",
    "            if header_table[k] < min_support:\n",
    "                del header_table[k]\n",
    "                frequent_items = list(header_table.keys()) \n",
    "                frequent_items.sort(key=lambda x: header_table[x], reverse=True) \n",
    "                root = Node(\"Null\", 1, None)\n",
    "                for index, row in data.iterrows():\n",
    "                    ordered_items = [item for item in frequent_items if item in row]\n",
    "                    if ordered_items: \n",
    "                        insert_tree(ordered_items, root, header_table, 1)\n",
    "                        # Ensure 'Null' is in header_table \n",
    "                        if 'Null' not in header_table: \n",
    "                            header_table['Null'] = (0, None)\n",
    "                            return root, header_table\n",
    "                            def insert_tree(items, node, header_table, count):\n",
    "                                if not items:\n",
    "                                    return\n",
    "                                    if items[0] in node.children: \n",
    "                                        node.children[items[0]].count += count\n",
    "                                    else: \n",
    "                                        node.children[items[0]] = Node(items[0], count, node)\n",
    "                                    if header_table[items[0]][1] is None:\n",
    "                                        header_table[items[0]] = (header_table[items[0]][0], node.children[items[0]])\n",
    "                                    else: \n",
    "                                        update_header(header_table[items[0]][1], node.children[items[0]])\n",
    "                                if len(items) > 1:\n",
    "                                    insert_tree(items[1:], node.children[items[0]], header_table, count)\n",
    "                                    def update_header(node_to_test, target_node): \n",
    "                                       while node_to_test.nodeLink is not None:\n",
    "                                        node_to_test = node_to_test.nodeLink \n",
    "                                        node_to_test.nodeLink = target_node \n",
    "# FP-tree construction \n",
    "                                        root, header_table = build_tree(df, min_support=2)"
   ]
  },
  {
   "cell_type": "code",
   "execution_count": 45,
   "id": "eae109d1-b13b-4dd6-b7e0-f7c2a917c01e",
   "metadata": {},
   "outputs": [
    {
     "name": "stdout",
     "output_type": "stream",
     "text": [
      "a) Maximum Frequent Itemset (FP-growth):\n",
      "     support            itemsets\n",
      "0       0.4                 (u)\n",
      "1       0.4                 (t)\n",
      "2       0.4                 (l)\n",
      "3       0.4                 (i)\n",
      "4       0.4                 (e)\n",
      "..      ...                 ...\n",
      "58      0.4     (d, t, e, l, u)\n",
      "59      0.4     (d, t, e, i, u)\n",
      "60      0.4     (d, e, i, l, u)\n",
      "61      0.4     (d, t, e, i, l)\n",
      "62      0.4  (d, t, e, i, l, u)\n",
      "\n",
      "[63 rows x 2 columns]\n",
      "a) Maximum Frequent Itemset (Apriori):\n",
      "     support            itemsets\n",
      "0       0.4                 (d)\n",
      "1       0.4                 (e)\n",
      "2       0.4                 (i)\n",
      "3       0.4                 (l)\n",
      "4       0.4                 (t)\n",
      "..      ...                 ...\n",
      "58      0.4     (d, t, e, i, u)\n",
      "59      0.4     (d, t, e, l, u)\n",
      "60      0.4     (d, t, i, l, u)\n",
      "61      0.4     (t, e, i, l, u)\n",
      "62      0.4  (d, t, e, i, l, u)\n",
      "\n",
      "[63 rows x 2 columns]\n"
     ]
    }
   ],
   "source": [
    "#Answer the questions based on the FP-tree:\n",
    "# a) Find maximum frequent itemset\n",
    "max_frequent_itemset_fp = frequent_itemsets_fpgrowth[frequent_itemsets_fpgrowth['support'] == frequent_itemsets_fpgrowth['support'].max()]\n",
    "print(\"a) Maximum Frequent Itemset (FP-growth):\\n\", max_frequent_itemset_fp)\n",
    "\n",
    "max_frequent_itemset_apriori = frequent_itemsets_apriori[frequent_itemsets_apriori['support'] == frequent_itemsets_apriori['support'].max()]\n",
    "print(\"a) Maximum Frequent Itemset (Apriori):\\n\", max_frequent_itemset_apriori)"
   ]
  },
  {
   "cell_type": "code",
   "execution_count": 46,
   "id": "24b5f1fb-6e5c-44be-b0b6-a31c2b0a5f40",
   "metadata": {},
   "outputs": [
    {
     "name": "stdout",
     "output_type": "stream",
     "text": [
      "b) Number of transactions in the dataset: 17000\n"
     ]
    }
   ],
   "source": [
    "# b) How many transactions does it contain?\n",
    "import pandas as pd\n",
    "df = pd.read_csv(\"california_housing_train.csv\")\n",
    "num_transactions = len(df)\n",
    "print(\"b) Number of transactions in the dataset:\", num_transactions)"
   ]
  },
  {
   "cell_type": "code",
   "execution_count": 57,
   "id": "85629bb1-7619-44a9-9709-14978d41b838",
   "metadata": {
    "scrolled": true
   },
   "outputs": [
    {
     "name": "stdout",
     "output_type": "stream",
     "text": [
      "c) Frequent Patterns Enumerated (Apriori):\n",
      " [frozenset({'d'}), frozenset({'e'}), frozenset({'i'}), frozenset({'l'}), frozenset({'t'}), frozenset({'u'}), frozenset({'e', 'd'}), frozenset({'i', 'd'}), frozenset({'l', 'd'}), frozenset({'t', 'd'}), frozenset({'u', 'd'}), frozenset({'e', 'i'}), frozenset({'e', 'l'}), frozenset({'e', 't'}), frozenset({'e', 'u'}), frozenset({'l', 'i'}), frozenset({'t', 'i'}), frozenset({'i', 'u'}), frozenset({'l', 't'}), frozenset({'l', 'u'}), frozenset({'t', 'u'}), frozenset({'e', 'i', 'd'}), frozenset({'e', 'l', 'd'}), frozenset({'e', 't', 'd'}), frozenset({'e', 'u', 'd'}), frozenset({'l', 'i', 'd'}), frozenset({'t', 'i', 'd'}), frozenset({'u', 'i', 'd'}), frozenset({'l', 't', 'd'}), frozenset({'u', 'l', 'd'}), frozenset({'u', 't', 'd'}), frozenset({'e', 'l', 'i'}), frozenset({'e', 't', 'i'}), frozenset({'e', 'i', 'u'}), frozenset({'e', 'l', 't'}), frozenset({'e', 'l', 'u'}), frozenset({'e', 't', 'u'}), frozenset({'l', 't', 'i'}), frozenset({'l', 'i', 'u'}), frozenset({'t', 'i', 'u'}), frozenset({'l', 't', 'u'}), frozenset({'e', 'l', 'i', 'd'}), frozenset({'e', 't', 'i', 'd'}), frozenset({'e', 'u', 'i', 'd'}), frozenset({'e', 'l', 't', 'd'}), frozenset({'e', 'u', 'l', 'd'}), frozenset({'e', 'u', 't', 'd'}), frozenset({'l', 't', 'i', 'd'}), frozenset({'u', 'l', 'i', 'd'}), frozenset({'u', 't', 'i', 'd'}), frozenset({'u', 'l', 't', 'd'}), frozenset({'e', 'l', 't', 'i'}), frozenset({'e', 'l', 'i', 'u'}), frozenset({'e', 't', 'i', 'u'}), frozenset({'e', 'l', 't', 'u'}), frozenset({'l', 't', 'i', 'u'}), frozenset({'d', 't', 'e', 'i', 'l'}), frozenset({'d', 'e', 'i', 'l', 'u'}), frozenset({'d', 't', 'e', 'i', 'u'}), frozenset({'d', 't', 'e', 'l', 'u'}), frozenset({'d', 't', 'i', 'l', 'u'}), frozenset({'t', 'e', 'i', 'l', 'u'}), frozenset({'d', 't', 'e', 'i', 'l', 'u'})]\n"
     ]
    },
    {
     "ename": "NameError",
     "evalue": "name 'root' is not defined",
     "output_type": "error",
     "traceback": [
      "\u001b[1;31m---------------------------------------------------------------------------\u001b[0m",
      "\u001b[1;31mNameError\u001b[0m                                 Traceback (most recent call last)",
      "Cell \u001b[1;32mIn[57], line 13\u001b[0m\n\u001b[0;32m     11\u001b[0m \u001b[38;5;28mprint\u001b[39m(\u001b[38;5;124m\"\u001b[39m\u001b[38;5;124mc) Frequent Patterns Enumerated (Apriori):\u001b[39m\u001b[38;5;130;01m\\n\u001b[39;00m\u001b[38;5;124m\"\u001b[39m, patterns_apriori)\n\u001b[0;32m     12\u001b[0m patterns_fp \u001b[38;5;241m=\u001b[39m []\n\u001b[1;32m---> 13\u001b[0m mine_patterns(\u001b[43mroot\u001b[49m, [], header_table, min_support\u001b[38;5;241m=\u001b[39m\u001b[38;5;241m2\u001b[39m, patterns\u001b[38;5;241m=\u001b[39mpatterns_fp)\n\u001b[0;32m     14\u001b[0m \u001b[38;5;28mprint\u001b[39m(\u001b[38;5;124m\"\u001b[39m\u001b[38;5;124mc) Frequent Patterns Enumerated (FP-growth):\u001b[39m\u001b[38;5;130;01m\\n\u001b[39;00m\u001b[38;5;124m\"\u001b[39m, patterns_fp)\n",
      "\u001b[1;31mNameError\u001b[0m: name 'root' is not defined"
     ]
    }
   ],
   "source": [
    "# Simulate frequent pattern enumeration based on the FP-tree constructed.\n",
    "def mine_patterns(node, prefix, header_table, min_support, patterns):\n",
    "    if header_table[node.item][0] >= min_support:\n",
    "        patterns.append(prefix + [node.item])\n",
    "\n",
    "    for child_key, child_node in node.children.items():\n",
    "        mine_patterns(child_node, prefix + [node.item], header_table, min_support, patterns)\n",
    "\n",
    "\n",
    "patterns_apriori = list(frequent_itemsets_apriori['itemsets'])\n",
    "print(\"c) Frequent Patterns Enumerated (Apriori):\\n\", patterns_apriori)\n",
    "patterns_fp = []\n",
    "mine_patterns(root, [], header_table, min_support=2, patterns=patterns_fp)\n",
    "print(\"c) Frequent Patterns Enumerated (FP-growth):\\n\", patterns_fp)"
   ]
  },
  {
   "cell_type": "code",
   "execution_count": null,
   "id": "a52b32a0-7ea0-451d-a733-183f229f4f59",
   "metadata": {},
   "outputs": [],
   "source": []
  }
 ],
 "metadata": {
  "kernelspec": {
   "display_name": "Python 3 (ipykernel)",
   "language": "python",
   "name": "python3"
  },
  "language_info": {
   "codemirror_mode": {
    "name": "ipython",
    "version": 3
   },
   "file_extension": ".py",
   "mimetype": "text/x-python",
   "name": "python",
   "nbconvert_exporter": "python",
   "pygments_lexer": "ipython3",
   "version": "3.11.3"
  }
 },
 "nbformat": 4,
 "nbformat_minor": 5
}
