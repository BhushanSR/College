{
 "cells": [
  {
   "cell_type": "code",
   "execution_count": 19,
   "id": "53fac630-543e-4b33-a2f9-4603671000c9",
   "metadata": {},
   "outputs": [],
   "source": [
    "import pandas as pd\n",
    "from sklearn.preprocessing import MinMaxScaler, StandardScaler\n",
    "import numpy as np\n",
    "import matplotlib.pyplot as plt"
   ]
  },
  {
   "cell_type": "code",
   "execution_count": 21,
   "id": "89fda6db-50b8-443e-a8fb-fdd59d8159bc",
   "metadata": {},
   "outputs": [
    {
     "name": "stdout",
     "output_type": "stream",
     "text": [
      "Requirement already satisfied: PyDrive in c:\\python311\\lib\\site-packages (1.3.1)\n",
      "Requirement already satisfied: google-api-python-client>=1.2 in c:\\python311\\lib\\site-packages (from PyDrive) (2.128.0)\n",
      "Requirement already satisfied: oauth2client>=4.0.0 in c:\\python311\\lib\\site-packages (from PyDrive) (4.1.3)\n",
      "Requirement already satisfied: PyYAML>=3.0 in c:\\python311\\lib\\site-packages (from PyDrive) (6.0.1)\n",
      "Requirement already satisfied: httplib2<1.dev0,>=0.19.0 in c:\\python311\\lib\\site-packages (from google-api-python-client>=1.2->PyDrive) (0.22.0)\n",
      "Requirement already satisfied: google-auth!=2.24.0,!=2.25.0,<3.0.0.dev0,>=1.32.0 in c:\\python311\\lib\\site-packages (from google-api-python-client>=1.2->PyDrive) (2.29.0)\n",
      "Requirement already satisfied: google-auth-httplib2<1.0.0,>=0.2.0 in c:\\python311\\lib\\site-packages (from google-api-python-client>=1.2->PyDrive) (0.2.0)\n",
      "Requirement already satisfied: google-api-core!=2.0.*,!=2.1.*,!=2.2.*,!=2.3.0,<3.0.0.dev0,>=1.31.5 in c:\\python311\\lib\\site-packages (from google-api-python-client>=1.2->PyDrive) (2.19.0)\n",
      "Requirement already satisfied: uritemplate<5,>=3.0.1 in c:\\python311\\lib\\site-packages (from google-api-python-client>=1.2->PyDrive) (4.1.1)\n",
      "Requirement already satisfied: pyasn1>=0.1.7 in c:\\python311\\lib\\site-packages (from oauth2client>=4.0.0->PyDrive) (0.6.0)\n",
      "Requirement already satisfied: pyasn1-modules>=0.0.5 in c:\\python311\\lib\\site-packages (from oauth2client>=4.0.0->PyDrive) (0.4.0)\n",
      "Requirement already satisfied: rsa>=3.1.4 in c:\\python311\\lib\\site-packages (from oauth2client>=4.0.0->PyDrive) (4.9)\n",
      "Requirement already satisfied: six>=1.6.1 in c:\\python311\\lib\\site-packages (from oauth2client>=4.0.0->PyDrive) (1.16.0)\n",
      "Requirement already satisfied: googleapis-common-protos<2.0.dev0,>=1.56.2 in c:\\python311\\lib\\site-packages (from google-api-core!=2.0.*,!=2.1.*,!=2.2.*,!=2.3.0,<3.0.0.dev0,>=1.31.5->google-api-python-client>=1.2->PyDrive) (1.63.0)\n",
      "Requirement already satisfied: protobuf!=3.20.0,!=3.20.1,!=4.21.0,!=4.21.1,!=4.21.2,!=4.21.3,!=4.21.4,!=4.21.5,<5.0.0.dev0,>=3.19.5 in c:\\python311\\lib\\site-packages (from google-api-core!=2.0.*,!=2.1.*,!=2.2.*,!=2.3.0,<3.0.0.dev0,>=1.31.5->google-api-python-client>=1.2->PyDrive) (4.25.3)\n",
      "Requirement already satisfied: proto-plus<2.0.0dev,>=1.22.3 in c:\\python311\\lib\\site-packages (from google-api-core!=2.0.*,!=2.1.*,!=2.2.*,!=2.3.0,<3.0.0.dev0,>=1.31.5->google-api-python-client>=1.2->PyDrive) (1.23.0)\n",
      "Requirement already satisfied: requests<3.0.0.dev0,>=2.18.0 in c:\\python311\\lib\\site-packages (from google-api-core!=2.0.*,!=2.1.*,!=2.2.*,!=2.3.0,<3.0.0.dev0,>=1.31.5->google-api-python-client>=1.2->PyDrive) (2.31.0)\n",
      "Requirement already satisfied: cachetools<6.0,>=2.0.0 in c:\\python311\\lib\\site-packages (from google-auth!=2.24.0,!=2.25.0,<3.0.0.dev0,>=1.32.0->google-api-python-client>=1.2->PyDrive) (5.3.3)\n",
      "Requirement already satisfied: pyparsing!=3.0.0,!=3.0.1,!=3.0.2,!=3.0.3,<4,>=2.4.2 in c:\\python311\\lib\\site-packages (from httplib2<1.dev0,>=0.19.0->google-api-python-client>=1.2->PyDrive) (3.1.2)\n",
      "Requirement already satisfied: charset-normalizer<4,>=2 in c:\\python311\\lib\\site-packages (from requests<3.0.0.dev0,>=2.18.0->google-api-core!=2.0.*,!=2.1.*,!=2.2.*,!=2.3.0,<3.0.0.dev0,>=1.31.5->google-api-python-client>=1.2->PyDrive) (3.3.2)\n",
      "Requirement already satisfied: idna<4,>=2.5 in c:\\python311\\lib\\site-packages (from requests<3.0.0.dev0,>=2.18.0->google-api-core!=2.0.*,!=2.1.*,!=2.2.*,!=2.3.0,<3.0.0.dev0,>=1.31.5->google-api-python-client>=1.2->PyDrive) (3.7)\n",
      "Requirement already satisfied: urllib3<3,>=1.21.1 in c:\\python311\\lib\\site-packages (from requests<3.0.0.dev0,>=2.18.0->google-api-core!=2.0.*,!=2.1.*,!=2.2.*,!=2.3.0,<3.0.0.dev0,>=1.31.5->google-api-python-client>=1.2->PyDrive) (2.2.1)\n",
      "Requirement already satisfied: certifi>=2017.4.17 in c:\\python311\\lib\\site-packages (from requests<3.0.0.dev0,>=2.18.0->google-api-core!=2.0.*,!=2.1.*,!=2.2.*,!=2.3.0,<3.0.0.dev0,>=1.31.5->google-api-python-client>=1.2->PyDrive) (2024.2.2)\n"
     ]
    },
    {
     "name": "stderr",
     "output_type": "stream",
     "text": [
      "DEPRECATION: Loading egg at c:\\python311\\lib\\site-packages\\vboxapi-1.0-py3.11.egg is deprecated. pip 24.3 will enforce this behaviour change. A possible replacement is to use pip for package installation.. Discussion can be found at https://github.com/pypa/pip/issues/12330\n"
     ]
    },
    {
     "data": {
      "text/html": [
       "<div>\n",
       "<style scoped>\n",
       "    .dataframe tbody tr th:only-of-type {\n",
       "        vertical-align: middle;\n",
       "    }\n",
       "\n",
       "    .dataframe tbody tr th {\n",
       "        vertical-align: top;\n",
       "    }\n",
       "\n",
       "    .dataframe thead th {\n",
       "        text-align: right;\n",
       "    }\n",
       "</style>\n",
       "<table border=\"1\" class=\"dataframe\">\n",
       "  <thead>\n",
       "    <tr style=\"text-align: right;\">\n",
       "      <th></th>\n",
       "      <th>longitude</th>\n",
       "      <th>latitude</th>\n",
       "      <th>housing_median_age</th>\n",
       "      <th>total_rooms</th>\n",
       "      <th>total_bedrooms</th>\n",
       "      <th>population</th>\n",
       "      <th>households</th>\n",
       "      <th>median_income</th>\n",
       "      <th>median_house_value</th>\n",
       "    </tr>\n",
       "  </thead>\n",
       "  <tbody>\n",
       "    <tr>\n",
       "      <th>0</th>\n",
       "      <td>-114.31</td>\n",
       "      <td>34.19</td>\n",
       "      <td>15.0</td>\n",
       "      <td>5612.0</td>\n",
       "      <td>1283.0</td>\n",
       "      <td>1015.0</td>\n",
       "      <td>472.0</td>\n",
       "      <td>1.4936</td>\n",
       "      <td>66900.0</td>\n",
       "    </tr>\n",
       "    <tr>\n",
       "      <th>1</th>\n",
       "      <td>-114.47</td>\n",
       "      <td>34.40</td>\n",
       "      <td>19.0</td>\n",
       "      <td>7650.0</td>\n",
       "      <td>1901.0</td>\n",
       "      <td>1129.0</td>\n",
       "      <td>463.0</td>\n",
       "      <td>1.8200</td>\n",
       "      <td>80100.0</td>\n",
       "    </tr>\n",
       "    <tr>\n",
       "      <th>2</th>\n",
       "      <td>-114.56</td>\n",
       "      <td>33.69</td>\n",
       "      <td>17.0</td>\n",
       "      <td>720.0</td>\n",
       "      <td>174.0</td>\n",
       "      <td>333.0</td>\n",
       "      <td>117.0</td>\n",
       "      <td>1.6509</td>\n",
       "      <td>85700.0</td>\n",
       "    </tr>\n",
       "    <tr>\n",
       "      <th>3</th>\n",
       "      <td>-114.57</td>\n",
       "      <td>33.64</td>\n",
       "      <td>14.0</td>\n",
       "      <td>1501.0</td>\n",
       "      <td>337.0</td>\n",
       "      <td>515.0</td>\n",
       "      <td>226.0</td>\n",
       "      <td>3.1917</td>\n",
       "      <td>73400.0</td>\n",
       "    </tr>\n",
       "    <tr>\n",
       "      <th>4</th>\n",
       "      <td>-114.57</td>\n",
       "      <td>33.57</td>\n",
       "      <td>20.0</td>\n",
       "      <td>1454.0</td>\n",
       "      <td>326.0</td>\n",
       "      <td>624.0</td>\n",
       "      <td>262.0</td>\n",
       "      <td>1.9250</td>\n",
       "      <td>65500.0</td>\n",
       "    </tr>\n",
       "  </tbody>\n",
       "</table>\n",
       "</div>"
      ],
      "text/plain": [
       "   longitude  latitude  housing_median_age  total_rooms  total_bedrooms   \n",
       "0    -114.31     34.19                15.0       5612.0          1283.0  \\\n",
       "1    -114.47     34.40                19.0       7650.0          1901.0   \n",
       "2    -114.56     33.69                17.0        720.0           174.0   \n",
       "3    -114.57     33.64                14.0       1501.0           337.0   \n",
       "4    -114.57     33.57                20.0       1454.0           326.0   \n",
       "\n",
       "   population  households  median_income  median_house_value  \n",
       "0      1015.0       472.0         1.4936             66900.0  \n",
       "1      1129.0       463.0         1.8200             80100.0  \n",
       "2       333.0       117.0         1.6509             85700.0  \n",
       "3       515.0       226.0         3.1917             73400.0  \n",
       "4       624.0       262.0         1.9250             65500.0  "
      ]
     },
     "execution_count": 21,
     "metadata": {},
     "output_type": "execute_result"
    }
   ],
   "source": [
    "# Get File from Drive using file-ID\n",
    "import pandas as pd\n",
    "!pip install PyDrive\n",
    "\n",
    "data = pd.read_csv('california_housing_train.csv')\n",
    "data.head()"
   ]
  },
  {
   "cell_type": "code",
   "execution_count": 22,
   "id": "e8252521-9f90-4375-ada3-090c6fe055ba",
   "metadata": {},
   "outputs": [
    {
     "name": "stdout",
     "output_type": "stream",
     "text": [
      "Standard Deviation:\n",
      " longitude                  2.005166\n",
      "latitude                   2.137340\n",
      "housing_median_age        12.586937\n",
      "total_rooms             2179.947071\n",
      "total_bedrooms           421.499452\n",
      "population              1147.852959\n",
      "households               384.520841\n",
      "median_income              1.908157\n",
      "median_house_value    115983.764387\n",
      "dtype: float64\n",
      "\n",
      "Variance:\n",
      " longitude             4.020692e+00\n",
      "latitude              4.568221e+00\n",
      "housing_median_age    1.584310e+02\n",
      "total_rooms           4.752169e+06\n",
      "total_bedrooms        1.776618e+05\n",
      "population            1.317566e+06\n",
      "households            1.478563e+05\n",
      "median_income         3.641061e+00\n",
      "median_house_value    1.345223e+10\n",
      "dtype: float64\n"
     ]
    }
   ],
   "source": [
    "# a) Find standard deviation, variance of every numerical attribute\n",
    "std_deviation = data.std()\n",
    "variance = data.var()\n",
    "print(\"Standard Deviation:\\n\", std_deviation)\n",
    "print(\"\\nVariance:\\n\", variance)"
   ]
  },
  {
   "cell_type": "code",
   "execution_count": 23,
   "id": "52669770-e0d9-4b65-8cdb-fef272d1bb7c",
   "metadata": {},
   "outputs": [
    {
     "name": "stdout",
     "output_type": "stream",
     "text": [
      "\n",
      "Covariance Matrix:\n",
      "                        longitude      latitude  housing_median_age   \n",
      "longitude               4.020692     -3.965185           -2.883552  \\\n",
      "latitude               -3.965185      4.568221            0.442652   \n",
      "housing_median_age     -2.883552      0.442652          158.430983   \n",
      "total_rooms           205.489998   -180.652575        -9904.992690   \n",
      "total_bedrooms         60.685329    -62.497196        -1700.026828   \n",
      "population            234.017167   -272.963262        -4275.001960   \n",
      "households             45.974646    -61.558579        -1465.311997   \n",
      "median_income          -0.059248     -0.327506           -2.784428   \n",
      "median_house_value -10461.246889 -35924.378200       155853.476977   \n",
      "\n",
      "                     total_rooms  total_bedrooms    population    households   \n",
      "longitude           2.054900e+02    6.068533e+01  2.340172e+02  4.597465e+01  \\\n",
      "latitude           -1.806526e+02   -6.249720e+01 -2.729633e+02 -6.155858e+01   \n",
      "housing_median_age -9.904993e+03   -1.700027e+03 -4.275002e+03 -1.465312e+03   \n",
      "total_rooms         4.752169e+06    8.530598e+05  2.152369e+06  7.703534e+05   \n",
      "total_bedrooms      8.530598e+05    1.776618e+05  4.263264e+05  1.589829e+05   \n",
      "population          2.152369e+06    4.263264e+05  1.317566e+06  4.013172e+05   \n",
      "households          7.703534e+05    1.589829e+05  4.013172e+05  1.478563e+05   \n",
      "median_income       8.127300e+02   -1.085360e+01 -1.396588e+00  5.608393e+00   \n",
      "median_house_value  3.311968e+07    2.238200e+06 -3.707743e+06  2.721855e+06   \n",
      "\n",
      "                    median_income  median_house_value  \n",
      "longitude               -0.059248       -1.046125e+04  \n",
      "latitude                -0.327506       -3.592438e+04  \n",
      "housing_median_age      -2.784428        1.558535e+05  \n",
      "total_rooms            812.729998        3.311968e+07  \n",
      "total_bedrooms         -10.853597        2.238200e+06  \n",
      "population              -1.396588       -3.707743e+06  \n",
      "households               5.608393        2.721855e+06  \n",
      "median_income            3.641061        1.531215e+05  \n",
      "median_house_value  153121.464474        1.345223e+10  \n",
      "\n",
      "Correlation Matrix:\n",
      "                     longitude  latitude  housing_median_age  total_rooms   \n",
      "longitude            1.000000 -0.925208           -0.114250     0.047010  \\\n",
      "latitude            -0.925208  1.000000            0.016454    -0.038773   \n",
      "housing_median_age  -0.114250  0.016454            1.000000    -0.360984   \n",
      "total_rooms          0.047010 -0.038773           -0.360984     1.000000   \n",
      "total_bedrooms       0.071802 -0.069373           -0.320434     0.928403   \n",
      "population           0.101674 -0.111261           -0.295890     0.860170   \n",
      "households           0.059628 -0.074902           -0.302754     0.919018   \n",
      "median_income       -0.015485 -0.080303           -0.115932     0.195383   \n",
      "median_house_value  -0.044982 -0.144917            0.106758     0.130991   \n",
      "\n",
      "                    total_bedrooms  population  households  median_income   \n",
      "longitude                 0.071802    0.101674    0.059628      -0.015485  \\\n",
      "latitude                 -0.069373   -0.111261   -0.074902      -0.080303   \n",
      "housing_median_age       -0.320434   -0.295890   -0.302754      -0.115932   \n",
      "total_rooms               0.928403    0.860170    0.919018       0.195383   \n",
      "total_bedrooms            1.000000    0.881169    0.980920      -0.013495   \n",
      "population                0.881169    1.000000    0.909247      -0.000638   \n",
      "households                0.980920    0.909247    1.000000       0.007644   \n",
      "median_income            -0.013495   -0.000638    0.007644       1.000000   \n",
      "median_house_value        0.045783   -0.027850    0.061031       0.691871   \n",
      "\n",
      "                    median_house_value  \n",
      "longitude                    -0.044982  \n",
      "latitude                     -0.144917  \n",
      "housing_median_age            0.106758  \n",
      "total_rooms                   0.130991  \n",
      "total_bedrooms                0.045783  \n",
      "population                   -0.027850  \n",
      "households                    0.061031  \n",
      "median_income                 0.691871  \n",
      "median_house_value            1.000000  \n"
     ]
    }
   ],
   "source": [
    "# b) Find covariance and perform Correlation analysis using Correlation coefficient\n",
    "#Variance is a measure of magnitude because it is expressed as a number.\n",
    "#Covariance, on the other hand, describes the direction of a relationship between two variables.\n",
    "#It is defined as a positive or negative value rather than a number.\n",
    "covariance_matrix = data.cov()\n",
    "correlation_matrix = data.corr()\n",
    "print(\"\\nCovariance Matrix:\\n\", covariance_matrix)\n",
    "print(\"\\nCorrelation Matrix:\\n\", correlation_matrix)"
   ]
  },
  {
   "cell_type": "code",
   "execution_count": 24,
   "id": "05370df8-13a1-4af2-9ee2-89511fb11ac4",
   "metadata": {},
   "outputs": [
    {
     "name": "stdout",
     "output_type": "stream",
     "text": [
      "\n",
      "Number of independent features: 9\n"
     ]
    }
   ],
   "source": [
    "# c) How many independent features are present in the given dataset?\n",
    "#Correlation finds the direction of the relationship along with the degree of the relationship.\n",
    "independent_features = np.linalg.matrix_rank(data.corr())\n",
    "print(\"\\nNumber of independent features:\", independent_features)"
   ]
  },
  {
   "cell_type": "code",
   "execution_count": 25,
   "id": "67c3c1e1-f9e4-40cb-8d59-42ec90b57c73",
   "metadata": {},
   "outputs": [
    {
     "name": "stdout",
     "output_type": "stream",
     "text": [
      "\n",
      "d) Unwanted features: {'population', 'households', 'total_bedrooms', 'latitude'}\n"
     ]
    }
   ],
   "source": [
    "# d) Can we identify unwanted features?\n",
    "# we can analyze correlation coefficients to identify features strongly correlated with each other.\n",
    "# Features with high correlation might be candidates for removal if redundancy is present.\n",
    "# Features with high correlation might be candidates for removal.\n",
    "#Correlation shows us both, the direction and magnitude of how two quantities vary with each other.\n",
    "\n",
    "unwanted_features = set()\n",
    "for i in range(len(correlation_matrix.columns)):\n",
    "    for j in range(i):\n",
    "        if abs(correlation_matrix.iloc[i, j]) > 0.8:\n",
    "            colname = correlation_matrix.columns[i]\n",
    "            unwanted_features.add(colname)\n",
    "\n",
    "print(\"\\nd) Unwanted features:\", unwanted_features)"
   ]
  },
  {
   "cell_type": "code",
   "execution_count": 26,
   "id": "f3f48999-7d90-497d-b5cc-a6bb600d57b2",
   "metadata": {},
   "outputs": [],
   "source": [
    "# e) Perform data discretization using equi-frequency binning method on the population attribute\n",
    "num_bins = 5  # Choose the number of bins as needed\n",
    "data['population'] = pd.qcut(data['population'], q=num_bins, labels=False)\n"
   ]
  },
  {
   "cell_type": "code",
   "execution_count": 27,
   "id": "844a1f9d-d887-4bc7-a3e1-0a899c362a99",
   "metadata": {},
   "outputs": [
    {
     "data": {
      "image/png": "[encoded data removed]",
      "text/plain": [
       "<Figure size 500x300 with 1 Axes>"
      ]
     },
     "metadata": {},
     "output_type": "display_data"
    }
   ],
   "source": [
    "# Visualize the equi-frequency bins graphically\n",
    "plt.figure(figsize=(5, 3))\n",
    "plt.hist(data['population'], bins=num_bins, edgecolor='black', alpha=0.7)\n",
    "plt.title('Equi-Frequency Binning for population Attribute')\n",
    "plt.xlabel('population')\n",
    "plt.ylabel('Frequency')\n",
    "plt.show()"
   ]
  },
  {
   "cell_type": "code",
   "execution_count": 28,
   "id": "13f0da90-e810-4602-90d1-b61b955149b7",
   "metadata": {},
   "outputs": [],
   "source": [
    "# f) Normalize RestBP, chol, and MaxHR attributes using different normalization techniques\n",
    "attributes_to_normalize = ['longitude', 'latitude']\n",
    "\n",
    "# Min-Max normalization\n",
    "min_max_scaler = MinMaxScaler()\n",
    "data_min_max_normalized = data.copy()\n",
    "data_min_max_normalized[attributes_to_normalize] = min_max_scaler.fit_transform(data[attributes_to_normalize])\n"
   ]
  },
  {
   "cell_type": "code",
   "execution_count": 29,
   "id": "79f6040f-c1db-4a78-8e85-7b11b674d609",
   "metadata": {},
   "outputs": [],
   "source": [
    "# Z-score normalization\n",
    "z_score_scaler = StandardScaler()\n",
    "data_z_score_normalized = data.copy()\n",
    "data_z_score_normalized[attributes_to_normalize] = z_score_scaler.fit_transform(data[attributes_to_normalize])\n"
   ]
  },
  {
   "cell_type": "code",
   "execution_count": 30,
   "id": "7f315ac5-0b8f-4873-bd70-ba8d8e340924",
   "metadata": {},
   "outputs": [],
   "source": [
    "# Decimal scaling normalization\n",
    "decimal_scaling_factor = 10 ** (len(str(int(data[attributes_to_normalize].abs().max().max()))) - 1)\n",
    "data_decimal_scaled = data.copy()\n",
    "data_decimal_scaled[attributes_to_normalize] = data[attributes_to_normalize] / decimal_scaling_factor"
   ]
  },
  {
   "cell_type": "code",
   "execution_count": 31,
   "id": "0a38686a-c9ef-4169-bcc2-0ec0a1508e4c",
   "metadata": {},
   "outputs": [
    {
     "name": "stdout",
     "output_type": "stream",
     "text": [
      "\n",
      "Min-Max Normalized DataFrame:\n",
      "    longitude  latitude  housing_median_age  total_rooms  total_bedrooms   \n",
      "0   1.000000  0.175345                15.0       5612.0          1283.0  \\\n",
      "1   0.984064  0.197662                19.0       7650.0          1901.0   \n",
      "2   0.975100  0.122210                17.0        720.0           174.0   \n",
      "3   0.974104  0.116897                14.0       1501.0           337.0   \n",
      "4   0.974104  0.109458                20.0       1454.0           326.0   \n",
      "\n",
      "   population  households  median_income  median_house_value  \n",
      "0           2       472.0         1.4936             66900.0  \n",
      "1           2       463.0         1.8200             80100.0  \n",
      "2           0       117.0         1.6509             85700.0  \n",
      "3           0       226.0         3.1917             73400.0  \n",
      "4           0       262.0         1.9250             65500.0  \n",
      "\n",
      "Z-Score Normalized DataFrame:\n",
      "    longitude  latitude  housing_median_age  total_rooms  total_bedrooms   \n",
      "0   2.619365 -0.671520                15.0       5612.0          1283.0  \\\n",
      "1   2.539569 -0.573264                19.0       7650.0          1901.0   \n",
      "2   2.494683 -0.905463                17.0        720.0           174.0   \n",
      "3   2.489696 -0.928857                14.0       1501.0           337.0   \n",
      "4   2.489696 -0.961609                20.0       1454.0           326.0   \n",
      "\n",
      "   population  households  median_income  median_house_value  \n",
      "0           2       472.0         1.4936             66900.0  \n",
      "1           2       463.0         1.8200             80100.0  \n",
      "2           0       117.0         1.6509             85700.0  \n",
      "3           0       226.0         3.1917             73400.0  \n",
      "4           0       262.0         1.9250             65500.0  \n",
      "\n",
      "Decimal Scaled DataFrame:\n",
      "    longitude  latitude  housing_median_age  total_rooms  total_bedrooms   \n",
      "0    -1.1431    0.3419                15.0       5612.0          1283.0  \\\n",
      "1    -1.1447    0.3440                19.0       7650.0          1901.0   \n",
      "2    -1.1456    0.3369                17.0        720.0           174.0   \n",
      "3    -1.1457    0.3364                14.0       1501.0           337.0   \n",
      "4    -1.1457    0.3357                20.0       1454.0           326.0   \n",
      "\n",
      "   population  households  median_income  median_house_value  \n",
      "0           2       472.0         1.4936             66900.0  \n",
      "1           2       463.0         1.8200             80100.0  \n",
      "2           0       117.0         1.6509             85700.0  \n",
      "3           0       226.0         3.1917             73400.0  \n",
      "4           0       262.0         1.9250             65500.0  \n"
     ]
    }
   ],
   "source": [
    "# Display the results\n",
    "print(\"\\nMin-Max Normalized DataFrame:\\n\", data_min_max_normalized.head())\n",
    "print(\"\\nZ-Score Normalized DataFrame:\\n\", data_z_score_normalized.head())\n",
    "print(\"\\nDecimal Scaled DataFrame:\\n\", data_decimal_scaled.head())\n"
   ]
  },
  {
   "cell_type": "code",
   "execution_count": null,
   "id": "adfa95db-4c90-4d2e-9ec3-85aedfd1f3c8",
   "metadata": {},
   "outputs": [],
   "source": []
  }
 ],
 "metadata": {
  "kernelspec": {
   "display_name": "Python 3 (ipykernel)",
   "language": "python",
   "name": "python3"
  },
  "language_info": {
   "codemirror_mode": {
    "name": "ipython",
    "version": 3
   },
   "file_extension": ".py",
   "mimetype": "text/x-python",
   "name": "python",
   "nbconvert_exporter": "python",
   "pygments_lexer": "ipython3",
   "version": "3.11.3"
  }
 },
 "nbformat": 4,
 "nbformat_minor": 5
}
